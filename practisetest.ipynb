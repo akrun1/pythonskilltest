{
 "cells": [
  {
   "cell_type": "markdown",
   "metadata": {},
   "source": [
    "# simpleArraySum"
   ]
  },
  {
   "cell_type": "code",
   "execution_count": 2,
   "metadata": {},
   "outputs": [],
   "source": [
    "import os\n",
    "import sys"
   ]
  },
  {
   "cell_type": "code",
   "execution_count": 2,
   "metadata": {},
   "outputs": [],
   "source": [
    "def simpleArraySum(ar):\n",
    "    tmp = 0\n",
    "    for a in ar:\n",
    "        if a <= 1000:\n",
    "            tmp += a\n",
    "    return tmp"
   ]
  },
  {
   "cell_type": "code",
   "execution_count": 9,
   "metadata": {},
   "outputs": [
    {
     "data": {
      "text/plain": [
       "9"
      ]
     },
     "execution_count": 9,
     "metadata": {},
     "output_type": "execute_result"
    }
   ],
   "source": [
    "simpleArraySum([1, 3, 5])"
   ]
  },
  {
   "cell_type": "markdown",
   "metadata": {},
   "source": [
    "# Compare the Triplets"
   ]
  },
  {
   "cell_type": "code",
   "execution_count": 20,
   "metadata": {},
   "outputs": [],
   "source": [
    "a = [1, 2, 3]\n",
    "b = [3, 2, 1]"
   ]
  },
  {
   "cell_type": "code",
   "execution_count": 21,
   "metadata": {},
   "outputs": [],
   "source": [
    "def compareTriplets(a, b):\n",
    "    a1 = 0\n",
    "    b1 = 0\n",
    "    for i in range(len(a)):\n",
    "        if (a[i] >=1 & a[i] <=100) & (b[i] >=1 & b[i] <= 100):\n",
    "            if a[i] > b[i]:\n",
    "                a1 += 1\n",
    "            elif a[i] < b[i]:\n",
    "                b1 += 1\n",
    "            else:\n",
    "                continue\n",
    "    \n",
    "        \n",
    "    return (a1, b1)"
   ]
  },
  {
   "cell_type": "code",
   "execution_count": 23,
   "metadata": {},
   "outputs": [
    {
     "data": {
      "text/plain": [
       "(1, 1)"
      ]
     },
     "execution_count": 23,
     "metadata": {},
     "output_type": "execute_result"
    }
   ],
   "source": [
    "compareTriplets(a, b)"
   ]
  },
  {
   "cell_type": "markdown",
   "metadata": {},
   "source": [
    "# A Very Big Sum"
   ]
  },
  {
   "cell_type": "code",
   "execution_count": null,
   "metadata": {},
   "outputs": [],
   "source": [
    " def aVeryBigSum(ar):\n",
    "    n = len(ar)\n",
    "    out = 0\n",
    "    if (n >=1 & n <=10):\n",
    "        for i in range(n):\n",
    "            if (ar[i] >= 0 & ar[i] <= 10**10):\n",
    "                out += ar[i]\n",
    "    return out\n",
    "        "
   ]
  },
  {
   "cell_type": "code",
   "execution_count": 28,
   "metadata": {},
   "outputs": [
    {
     "data": {
      "text/plain": [
       "5000000015"
      ]
     },
     "execution_count": 28,
     "metadata": {},
     "output_type": "execute_result"
    }
   ],
   "source": [
    "ar1 = [1000000001, 1000000002, 1000000003, 1000000004, 1000000005]\n",
    "aVeryBigSum(ar1)"
   ]
  },
  {
   "cell_type": "markdown",
   "metadata": {},
   "source": [
    "# Diagonal Difference"
   ]
  },
  {
   "cell_type": "code",
   "execution_count": 41,
   "metadata": {},
   "outputs": [],
   "source": [
    "ar1 = [[11, 2, 4], [4, 5, 6], [10, 8, -12]]"
   ]
  },
  {
   "cell_type": "code",
   "execution_count": 42,
   "metadata": {},
   "outputs": [
    {
     "name": "stdout",
     "output_type": "stream",
     "text": [
      "[[11, 2, 4], [4, 5, 6], [10, 8, -12]]\n"
     ]
    }
   ],
   "source": [
    "print(ar1)"
   ]
  },
  {
   "cell_type": "code",
   "execution_count": 43,
   "metadata": {},
   "outputs": [],
   "source": [
    "def diagonalDifference(arr):\n",
    "    d1 = 0\n",
    "    d2 = 0\n",
    "    for i in range(len(arr)):\n",
    "        tmp1 = arr[i][i]\n",
    "        tmp2 = arr[i][::-1][i]\n",
    "        if (tmp1 >= -100) & (tmp1 <= 100):\n",
    "            d1 += tmp1\n",
    "        if (tmp2 >= -100) & (tmp2 <= 100):\n",
    "            d2 += tmp2\n",
    "    return abs(d1 - d2)"
   ]
  },
  {
   "cell_type": "code",
   "execution_count": 44,
   "metadata": {},
   "outputs": [
    {
     "data": {
      "text/plain": [
       "15"
      ]
     },
     "execution_count": 44,
     "metadata": {},
     "output_type": "execute_result"
    }
   ],
   "source": [
    "diagonalDifference(ar1)"
   ]
  },
  {
   "cell_type": "markdown",
   "metadata": {},
   "source": [
    "# plusMinus\n"
   ]
  },
  {
   "cell_type": "code",
   "execution_count": 45,
   "metadata": {},
   "outputs": [],
   "source": [
    "ar1 = [1, 2, 0, -1, -2]"
   ]
  },
  {
   "cell_type": "code",
   "execution_count": 59,
   "metadata": {},
   "outputs": [],
   "source": [
    "def plusMinus(arr):\n",
    "    l1 = len(arr)\n",
    "    if (l1 > 0) & (l1 <= 100):\n",
    "        pos = 0\n",
    "        neg = 0\n",
    "        zero = 0\n",
    "        for i in range(len(arr)):\n",
    "            tmp = arr[i]\n",
    "            if (tmp >= -100) & (tmp <= 100):\n",
    "                if tmp > 0:\n",
    "                    pos += 1\n",
    "                elif tmp < 0:\n",
    "                    neg += 1\n",
    "                else:\n",
    "                    zero += 1\n",
    "        posperc = pos/l1\n",
    "        negperc = neg/l1\n",
    "        zeroperc = zero/l1\n",
    "        print(format(posperc, '.6f'))\n",
    "        print(format(negperc, '.6f'))\n",
    "        print(format(zeroperc, '.6f'))\n",
    "    return None\n",
    "        "
   ]
  },
  {
   "cell_type": "code",
   "execution_count": 60,
   "metadata": {},
   "outputs": [
    {
     "name": "stdout",
     "output_type": "stream",
     "text": [
      "0.400000\n",
      "0.400000\n",
      "0.200000\n"
     ]
    }
   ],
   "source": [
    "plusMinus(ar1)"
   ]
  },
  {
   "cell_type": "markdown",
   "metadata": {},
   "source": [
    "# staircase"
   ]
  },
  {
   "cell_type": "code",
   "execution_count": 68,
   "metadata": {},
   "outputs": [],
   "source": [
    "def staircase(n):\n",
    "    if (n > 0) & (n <= 100):\n",
    "        for i in range(1, n + 1):\n",
    "            tmp = '#' * i\n",
    "            print(tmp.rjust(n))\n",
    "    return None\n",
    "        "
   ]
  },
  {
   "cell_type": "code",
   "execution_count": 69,
   "metadata": {},
   "outputs": [
    {
     "name": "stdout",
     "output_type": "stream",
     "text": [
      "    #\n",
      "   ##\n",
      "  ###\n",
      " ####\n",
      "#####\n"
     ]
    }
   ],
   "source": [
    "staircase(5)"
   ]
  },
  {
   "cell_type": "markdown",
   "metadata": {},
   "source": [
    "# Mini-Max Sum"
   ]
  },
  {
   "cell_type": "code",
   "execution_count": 108,
   "metadata": {},
   "outputs": [],
   "source": [
    "ar1 = [3, 5, 1, 7, 9]"
   ]
  },
  {
   "cell_type": "code",
   "execution_count": 107,
   "metadata": {},
   "outputs": [],
   "source": [
    "def miniMaxSum(arr):\n",
    "    arr.sort()\n",
    "    out = []\n",
    "    Min = 0\n",
    "    Max = 0\n",
    "    for i in range(len(arr)):\n",
    "        if (arr[i] >=1) & (arr[i] <=10**9):\n",
    "            out.append(arr[i])\n",
    "    print(sum(out[:4]), sum(out[::-1][:4]))\n",
    "    return None\n",
    "    "
   ]
  },
  {
   "cell_type": "code",
   "execution_count": 110,
   "metadata": {},
   "outputs": [
    {
     "name": "stdout",
     "output_type": "stream",
     "text": [
      "16 24\n"
     ]
    }
   ],
   "source": [
    "miniMaxSum(ar1)"
   ]
  },
  {
   "cell_type": "markdown",
   "metadata": {},
   "source": [
    "# Birthday Cake Candles"
   ]
  },
  {
   "cell_type": "code",
   "execution_count": 116,
   "metadata": {},
   "outputs": [],
   "source": [
    "ar1 = [4, 4, 1, 3]"
   ]
  },
  {
   "cell_type": "code",
   "execution_count": 121,
   "metadata": {},
   "outputs": [],
   "source": [
    "def birthdayCakeCandles(ar):\n",
    "    n = len(ar)\n",
    "    n1 = 0\n",
    "    if (n >=1) & (n <= 10**5):\n",
    "        \n",
    "        mx = max(ar)\n",
    "        for i in range(n):\n",
    "            if (ar[i] >=1 ) & (ar[i] <= 10**7):\n",
    "                if (ar[i] == mx):\n",
    "                    n1 += 1\n",
    "        \n",
    "    return n1       "
   ]
  },
  {
   "cell_type": "code",
   "execution_count": 122,
   "metadata": {},
   "outputs": [
    {
     "data": {
      "text/plain": [
       "2"
      ]
     },
     "execution_count": 122,
     "metadata": {},
     "output_type": "execute_result"
    }
   ],
   "source": [
    "birthdayCakeCandles(ar1)"
   ]
  },
  {
   "cell_type": "markdown",
   "metadata": {},
   "source": [
    "# Time Conversion"
   ]
  },
  {
   "cell_type": "code",
   "execution_count": 168,
   "metadata": {},
   "outputs": [],
   "source": [
    "#s1 = \"07:05:45PM\"\n",
    "#s1 = \"12:40:22AM\"\n",
    "#s1 = \"06:40:03AM\"\n",
    "s1 = \"12:45:54PM\""
   ]
  },
  {
   "cell_type": "code",
   "execution_count": 171,
   "metadata": {},
   "outputs": [],
   "source": [
    "def timeConversion(s):\n",
    "    hh = s[:2]\n",
    "    mm = s[3:5]\n",
    "    ss = s[6:8]\n",
    "    ampm = s[8:]\n",
    "    \n",
    "    hhint = int(hh)\n",
    "    mmint = int(mm)\n",
    "    ssint = int(ss)\n",
    "    \n",
    "    out = \"\"\n",
    "    if (hhint >=1) & (hhint <=12) & (mmint >=0) & (mmint <= 59) & (ssint >= 0) & (ssint <= 59):\n",
    "        if ampm == 'PM':\n",
    "            if (hhint < 12):\n",
    "                hh1 = str(hhint + 12) \n",
    "            else:\n",
    "                hh1 = hh\n",
    "            out += f\"{hh1}:{mm}:{ss}\"\n",
    "        else:\n",
    "            if(hhint >= 12):\n",
    "                hh1 = str(hhint - 12).zfill(2)\n",
    "            else:\n",
    "                hh1 = hh\n",
    "            out += f\"{hh1}:{mm}:{ss}\"\n",
    "    return out \n",
    "    "
   ]
  },
  {
   "cell_type": "code",
   "execution_count": 172,
   "metadata": {},
   "outputs": [
    {
     "data": {
      "text/plain": [
       "'12:45:54'"
      ]
     },
     "execution_count": 172,
     "metadata": {},
     "output_type": "execute_result"
    }
   ],
   "source": [
    "timeConversion(s1)"
   ]
  },
  {
   "cell_type": "markdown",
   "metadata": {},
   "source": [
    "# Grading Students"
   ]
  },
  {
   "cell_type": "code",
   "execution_count": 178,
   "metadata": {},
   "outputs": [],
   "source": [
    "import math"
   ]
  },
  {
   "cell_type": "code",
   "execution_count": 186,
   "metadata": {},
   "outputs": [],
   "source": [
    "gr = [73, 67, 38, 33]"
   ]
  },
  {
   "cell_type": "code",
   "execution_count": 185,
   "metadata": {},
   "outputs": [],
   "source": [
    "def gradingStudents(grades):\n",
    "    n = len(grades)\n",
    "    out = []\n",
    "    if (n >=1) & (n <= 60):\n",
    "        for i in range(n):\n",
    "            tmp = grades[i]\n",
    "            if (tmp >= 0) & (tmp <= 100):\n",
    "                if (tmp >= 38):\n",
    "                    tmpC = math.ceil(tmp/5) * 5\n",
    "                    if (tmpC - tmp) < 3:\n",
    "                        out.append(tmpC)\n",
    "                    else:\n",
    "                        out.append(tmp)\n",
    "                else:\n",
    "                    out.append(tmp)\n",
    "    return out        \n",
    "    "
   ]
  },
  {
   "cell_type": "code",
   "execution_count": 187,
   "metadata": {},
   "outputs": [
    {
     "data": {
      "text/plain": [
       "[75, 67, 40, 33]"
      ]
     },
     "execution_count": 187,
     "metadata": {},
     "output_type": "execute_result"
    }
   ],
   "source": [
    "gradingStudents(gr)"
   ]
  },
  {
   "cell_type": "markdown",
   "metadata": {},
   "source": [
    "# Apple and Orange"
   ]
  },
  {
   "cell_type": "code",
   "execution_count": 34,
   "metadata": {},
   "outputs": [],
   "source": [
    "def countApplesAndOranges(s, t, a, b, apples, oranges):\n",
    "    m = len(apples)\n",
    "    n = len(oranges)  \n",
    "    apple_n = 0\n",
    "    oranges_n = 0\n",
    "    if all(map((lambda value: (value >=1)  & (value <= 10 **5)), (s, t, a, b, m, n))):\n",
    "        if (a < s) & (s < t) & (t < b):\n",
    "            for ap in apples:\n",
    "                if (ap >= -10 ** 5) & (ap <= 10 **5):\n",
    "                    tmpap  = ap + a\n",
    "                    print(\"tmpap \", tmpap)\n",
    "                    if (tmpap >=s) & (tmpap <= t):\n",
    "                        apple_n += 1\n",
    "            for orn in oranges:\n",
    "                if (orn >= -10 ** 5) & (orn <= 10 **5):\n",
    "                    tmpor = orn + b\n",
    "                    print(\"tmpor \", tmpor)\n",
    "                    if (tmpor >= s) & (tmpor <= t):\n",
    "                        oranges_n += 1\n",
    "    \n",
    "    print(apple_n)\n",
    "    print(oranges_n)\n",
    "    \n",
    "    return None\n",
    "    "
   ]
  },
  {
   "cell_type": "code",
   "execution_count": 35,
   "metadata": {
    "scrolled": true
   },
   "outputs": [
    {
     "name": "stdout",
     "output_type": "stream",
     "text": [
      "tmpap  3\n",
      "tmpor  3\n",
      "1\n",
      "1\n"
     ]
    }
   ],
   "source": [
    "countApplesAndOranges(s = 2, t = 3, a = 1, b = 5, apples = [2], oranges = [-2])"
   ]
  },
  {
   "cell_type": "markdown",
   "metadata": {},
   "source": [
    "# Kangaroo"
   ]
  },
  {
   "cell_type": "code",
   "execution_count": 5,
   "metadata": {},
   "outputs": [],
   "source": [
    "x1, v1, x2, v2 = 43, 2, 70, 2"
   ]
  },
  {
   "cell_type": "code",
   "execution_count": 4,
   "metadata": {},
   "outputs": [],
   "source": [
    "def kangaroo(x1, v1, x2, v2):\n",
    "    out = \"NO\"\n",
    "    if (x1 >= 0) & (x2 > x1) & (x2 <= 10000):\n",
    "        if (v1 >= 1) & (v1 <= 10000) & (v2 >=1) & (v2 <= 10000):\n",
    "            flag = True\n",
    "            \n",
    "            while(flag):\n",
    "                diff1 = x2 - x1\n",
    "                x1 += v1\n",
    "                x2 += v2\n",
    "                print(\"x1:\", x1)\n",
    "                print(\"x2:\", x2)\n",
    "                diff2 = x2 - x1\n",
    "                if (diff2 > diff1)| (x2 < x1)| (diff1 == diff2):\n",
    "                    flag = False\n",
    "                    out = \"NO\"\n",
    "                if (x1 == x2):\n",
    "                    flag = False\n",
    "                    out = \"YES\"\n",
    "    print(out)\n",
    "    return None  "
   ]
  },
  {
   "cell_type": "code",
   "execution_count": 6,
   "metadata": {},
   "outputs": [
    {
     "name": "stdout",
     "output_type": "stream",
     "text": [
      "x1: 45\n",
      "x2: 72\n",
      "NO\n"
     ]
    }
   ],
   "source": [
    "kangaroo(x1, v1, x2, v2)"
   ]
  },
  {
   "cell_type": "markdown",
   "metadata": {},
   "source": [
    "# Between Two Sets"
   ]
  },
  {
   "cell_type": "code",
   "execution_count": 94,
   "metadata": {},
   "outputs": [],
   "source": [
    "a = [1]\n",
    "b = [100]"
   ]
  },
  {
   "cell_type": "code",
   "execution_count": 100,
   "metadata": {},
   "outputs": [],
   "source": [
    "def getTotalX(a, b):\n",
    "    n = len(a)\n",
    "    m = len(b)\n",
    "    n1 = 0\n",
    "    if all(map((lambda x: (x >= 1) & (x <= 10)), (n, m))):\n",
    "        if all(map((lambda x: (x >= 1) & (x <= 100)), (a))):\n",
    "            if all(map((lambda x: (x >=1) & (x <= 100)), (b))):\n",
    "                for val in range(max(a), max(b)+1, 1):\n",
    "                    an = 0\n",
    "                    bn = 0\n",
    "                    for a1 in a:\n",
    "                        if val %a1 == 0:\n",
    "                            an += 1\n",
    "                    \n",
    "                    for b1 in b:\n",
    "                        if b1 %val == 0:\n",
    "                            bn += 1\n",
    "                    #print('val: ', val, ';an: ', an, ';bn: ', bn)                   \n",
    "                    if (an == n) & (bn == m):\n",
    "                        n1 += 1                        \n",
    "        \n",
    "    return n1   "
   ]
  },
  {
   "cell_type": "code",
   "execution_count": 101,
   "metadata": {},
   "outputs": [
    {
     "data": {
      "text/plain": [
       "9"
      ]
     },
     "execution_count": 101,
     "metadata": {},
     "output_type": "execute_result"
    }
   ],
   "source": [
    "getTotalX(a, b)"
   ]
  },
  {
   "cell_type": "markdown",
   "metadata": {},
   "source": [
    "# Breaking the Records"
   ]
  },
  {
   "cell_type": "code",
   "execution_count": 103,
   "metadata": {},
   "outputs": [],
   "source": [
    "sco = [10, 5, 20, 20, 4, 5, 2, 25, 1]"
   ]
  },
  {
   "cell_type": "code",
   "execution_count": 110,
   "metadata": {},
   "outputs": [],
   "source": [
    "def breakingRecords(scores):\n",
    "    n = len(scores)\n",
    "    mx = 0\n",
    "    mn = 0\n",
    "    \n",
    "    if (n >= 1) & (n <= 1000):\n",
    "        if all(map((lambda x: (x >= 0) & (x <= 10**8)), scores)):\n",
    "            mxval = scores[0]\n",
    "            mnval = scores[0]\n",
    "            \n",
    "            for scr in scores:\n",
    "                if scr < mnval:\n",
    "                    mn += 1\n",
    "                    mnval = scr\n",
    "                if scr > mxval:\n",
    "                    mx += 1\n",
    "                    mxval = scr\n",
    "    return mx, mn       "
   ]
  },
  {
   "cell_type": "code",
   "execution_count": 111,
   "metadata": {},
   "outputs": [
    {
     "data": {
      "text/plain": [
       "(2, 4)"
      ]
     },
     "execution_count": 111,
     "metadata": {},
     "output_type": "execute_result"
    }
   ],
   "source": [
    "breakingRecords(sco)"
   ]
  }
 ],
 "metadata": {
  "kernelspec": {
   "display_name": "Python 3",
   "language": "python",
   "name": "python3"
  },
  "language_info": {
   "codemirror_mode": {
    "name": "ipython",
    "version": 3
   },
   "file_extension": ".py",
   "mimetype": "text/x-python",
   "name": "python",
   "nbconvert_exporter": "python",
   "pygments_lexer": "ipython3",
   "version": "3.8.3"
  }
 },
 "nbformat": 4,
 "nbformat_minor": 4
}
