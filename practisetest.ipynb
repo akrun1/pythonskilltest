{
 "cells": [
  {
   "cell_type": "markdown",
   "metadata": {},
   "source": [
    "# simpleArraySum"
   ]
  },
  {
   "cell_type": "code",
   "execution_count": 7,
   "metadata": {},
   "outputs": [],
   "source": [
    "import os\n",
    "import sys"
   ]
  },
  {
   "cell_type": "code",
   "execution_count": 2,
   "metadata": {},
   "outputs": [],
   "source": [
    "def simpleArraySum(ar):\n",
    "    tmp = 0\n",
    "    for a in ar:\n",
    "        if a <= 1000:\n",
    "            tmp += a\n",
    "    return tmp"
   ]
  },
  {
   "cell_type": "code",
   "execution_count": 9,
   "metadata": {},
   "outputs": [
    {
     "data": {
      "text/plain": [
       "9"
      ]
     },
     "execution_count": 9,
     "metadata": {},
     "output_type": "execute_result"
    }
   ],
   "source": [
    "simpleArraySum([1, 3, 5])"
   ]
  },
  {
   "cell_type": "markdown",
   "metadata": {},
   "source": [
    "# Compare the Triplets"
   ]
  },
  {
   "cell_type": "code",
   "execution_count": 20,
   "metadata": {},
   "outputs": [],
   "source": [
    "a = [1, 2, 3]\n",
    "b = [3, 2, 1]"
   ]
  },
  {
   "cell_type": "code",
   "execution_count": 21,
   "metadata": {},
   "outputs": [],
   "source": [
    "def compareTriplets(a, b):\n",
    "    a1 = 0\n",
    "    b1 = 0\n",
    "    for i in range(len(a)):\n",
    "        if (a[i] >=1 & a[i] <=100) & (b[i] >=1 & b[i] <= 100):\n",
    "            if a[i] > b[i]:\n",
    "                a1 += 1\n",
    "            elif a[i] < b[i]:\n",
    "                b1 += 1\n",
    "            else:\n",
    "                continue\n",
    "    \n",
    "        \n",
    "    return (a1, b1)"
   ]
  },
  {
   "cell_type": "code",
   "execution_count": 23,
   "metadata": {},
   "outputs": [
    {
     "data": {
      "text/plain": [
       "(1, 1)"
      ]
     },
     "execution_count": 23,
     "metadata": {},
     "output_type": "execute_result"
    }
   ],
   "source": [
    "compareTriplets(a, b)"
   ]
  },
  {
   "cell_type": "markdown",
   "metadata": {},
   "source": [
    "# A Very Big Sum"
   ]
  },
  {
   "cell_type": "code",
   "execution_count": null,
   "metadata": {},
   "outputs": [],
   "source": [
    " def aVeryBigSum(ar):\n",
    "    n = len(ar)\n",
    "    out = 0\n",
    "    if (n >=1 & n <=10):\n",
    "        for i in range(n):\n",
    "            if (ar[i] >= 0 & ar[i] <= 10**10):\n",
    "                out += ar[i]\n",
    "    return out\n",
    "        "
   ]
  },
  {
   "cell_type": "code",
   "execution_count": 28,
   "metadata": {},
   "outputs": [
    {
     "data": {
      "text/plain": [
       "5000000015"
      ]
     },
     "execution_count": 28,
     "metadata": {},
     "output_type": "execute_result"
    }
   ],
   "source": [
    "ar1 = [1000000001, 1000000002, 1000000003, 1000000004, 1000000005]\n",
    "aVeryBigSum(ar1)"
   ]
  },
  {
   "cell_type": "markdown",
   "metadata": {},
   "source": [
    "# Diagonal Difference"
   ]
  },
  {
   "cell_type": "code",
   "execution_count": 41,
   "metadata": {},
   "outputs": [],
   "source": [
    "ar1 = [[11, 2, 4], [4, 5, 6], [10, 8, -12]]"
   ]
  },
  {
   "cell_type": "code",
   "execution_count": 42,
   "metadata": {},
   "outputs": [
    {
     "name": "stdout",
     "output_type": "stream",
     "text": [
      "[[11, 2, 4], [4, 5, 6], [10, 8, -12]]\n"
     ]
    }
   ],
   "source": [
    "print(ar1)"
   ]
  },
  {
   "cell_type": "code",
   "execution_count": 43,
   "metadata": {},
   "outputs": [],
   "source": [
    "def diagonalDifference(arr):\n",
    "    d1 = 0\n",
    "    d2 = 0\n",
    "    for i in range(len(arr)):\n",
    "        tmp1 = arr[i][i]\n",
    "        tmp2 = arr[i][::-1][i]\n",
    "        if (tmp1 >= -100) & (tmp1 <= 100):\n",
    "            d1 += tmp1\n",
    "        if (tmp2 >= -100) & (tmp2 <= 100):\n",
    "            d2 += tmp2\n",
    "    return abs(d1 - d2)"
   ]
  },
  {
   "cell_type": "code",
   "execution_count": 44,
   "metadata": {},
   "outputs": [
    {
     "data": {
      "text/plain": [
       "15"
      ]
     },
     "execution_count": 44,
     "metadata": {},
     "output_type": "execute_result"
    }
   ],
   "source": [
    "diagonalDifference(ar1)"
   ]
  },
  {
   "cell_type": "markdown",
   "metadata": {},
   "source": [
    "# plusMinus\n"
   ]
  },
  {
   "cell_type": "code",
   "execution_count": 45,
   "metadata": {},
   "outputs": [],
   "source": [
    "ar1 = [1, 2, 0, -1, -2]"
   ]
  },
  {
   "cell_type": "code",
   "execution_count": 59,
   "metadata": {},
   "outputs": [],
   "source": [
    "def plusMinus(arr):\n",
    "    l1 = len(arr)\n",
    "    if (l1 > 0) & (l1 <= 100):\n",
    "        pos = 0\n",
    "        neg = 0\n",
    "        zero = 0\n",
    "        for i in range(len(arr)):\n",
    "            tmp = arr[i]\n",
    "            if (tmp >= -100) & (tmp <= 100):\n",
    "                if tmp > 0:\n",
    "                    pos += 1\n",
    "                elif tmp < 0:\n",
    "                    neg += 1\n",
    "                else:\n",
    "                    zero += 1\n",
    "        posperc = pos/l1\n",
    "        negperc = neg/l1\n",
    "        zeroperc = zero/l1\n",
    "        print(format(posperc, '.6f'))\n",
    "        print(format(negperc, '.6f'))\n",
    "        print(format(zeroperc, '.6f'))\n",
    "    return None\n",
    "        "
   ]
  },
  {
   "cell_type": "code",
   "execution_count": 60,
   "metadata": {},
   "outputs": [
    {
     "name": "stdout",
     "output_type": "stream",
     "text": [
      "0.400000\n",
      "0.400000\n",
      "0.200000\n"
     ]
    }
   ],
   "source": [
    "plusMinus(ar1)"
   ]
  },
  {
   "cell_type": "markdown",
   "metadata": {},
   "source": [
    "# staircase"
   ]
  },
  {
   "cell_type": "code",
   "execution_count": 68,
   "metadata": {},
   "outputs": [],
   "source": [
    "def staircase(n):\n",
    "    if (n > 0) & (n <= 100):\n",
    "        for i in range(1, n + 1):\n",
    "            tmp = '#' * i\n",
    "            print(tmp.rjust(n))\n",
    "    return None\n",
    "        "
   ]
  },
  {
   "cell_type": "code",
   "execution_count": 69,
   "metadata": {},
   "outputs": [
    {
     "name": "stdout",
     "output_type": "stream",
     "text": [
      "    #\n",
      "   ##\n",
      "  ###\n",
      " ####\n",
      "#####\n"
     ]
    }
   ],
   "source": [
    "staircase(5)"
   ]
  },
  {
   "cell_type": "markdown",
   "metadata": {},
   "source": [
    "# Mini-Max Sum"
   ]
  },
  {
   "cell_type": "code",
   "execution_count": 108,
   "metadata": {},
   "outputs": [],
   "source": [
    "ar1 = [3, 5, 1, 7, 9]"
   ]
  },
  {
   "cell_type": "code",
   "execution_count": 107,
   "metadata": {},
   "outputs": [],
   "source": [
    "def miniMaxSum(arr):\n",
    "    arr.sort()\n",
    "    out = []\n",
    "    Min = 0\n",
    "    Max = 0\n",
    "    for i in range(len(arr)):\n",
    "        if (arr[i] >=1) & (arr[i] <=10**9):\n",
    "            out.append(arr[i])\n",
    "    print(sum(out[:4]), sum(out[::-1][:4]))\n",
    "    return None\n",
    "    "
   ]
  },
  {
   "cell_type": "code",
   "execution_count": 110,
   "metadata": {},
   "outputs": [
    {
     "name": "stdout",
     "output_type": "stream",
     "text": [
      "16 24\n"
     ]
    }
   ],
   "source": [
    "miniMaxSum(ar1)"
   ]
  },
  {
   "cell_type": "markdown",
   "metadata": {},
   "source": [
    "# Birthday Cake Candles"
   ]
  },
  {
   "cell_type": "code",
   "execution_count": 116,
   "metadata": {},
   "outputs": [],
   "source": [
    "ar1 = [4, 4, 1, 3]"
   ]
  },
  {
   "cell_type": "code",
   "execution_count": 119,
   "metadata": {},
   "outputs": [
    {
     "data": {
      "text/plain": [
       "4"
      ]
     },
     "execution_count": 119,
     "metadata": {},
     "output_type": "execute_result"
    }
   ],
   "source": [
    "max(ar1) "
   ]
  },
  {
   "cell_type": "code",
   "execution_count": null,
   "metadata": {},
   "outputs": [],
   "source": [
    "def birthdayCakeCandles(ar):\n",
    "    n = len(ar)\n",
    "    n1 = 0\n",
    "    if (n >=1) & (n <= 10**5):\n",
    "        \n",
    "        mx = max(ar)\n",
    "        for i in range(n):\n",
    "            if (ar[i] >=1 ) & (ar[i] <= 10**7):\n",
    "                if (ar[i] == mx):\n",
    "                    n1 += 1\n",
    "        \n",
    "    return n1   \n",
    "        "
   ]
  }
 ],
 "metadata": {
  "kernelspec": {
   "display_name": "Python 3",
   "language": "python",
   "name": "python3"
  },
  "language_info": {
   "codemirror_mode": {
    "name": "ipython",
    "version": 3
   },
   "file_extension": ".py",
   "mimetype": "text/x-python",
   "name": "python",
   "nbconvert_exporter": "python",
   "pygments_lexer": "ipython3",
   "version": "3.8.3"
  }
 },
 "nbformat": 4,
 "nbformat_minor": 4
}
