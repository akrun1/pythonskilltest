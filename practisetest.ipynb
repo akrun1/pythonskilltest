{
 "cells": [
  {
   "cell_type": "markdown",
   "metadata": {},
   "source": [
    "# simpleArraySum"
   ]
  },
  {
   "cell_type": "code",
   "execution_count": 2,
   "metadata": {},
   "outputs": [],
   "source": [
    "import os\n",
    "import sys"
   ]
  },
  {
   "cell_type": "code",
   "execution_count": 2,
   "metadata": {},
   "outputs": [],
   "source": [
    "def simpleArraySum(ar):\n",
    "    tmp = 0\n",
    "    for a in ar:\n",
    "        if a <= 1000:\n",
    "            tmp += a\n",
    "    return tmp"
   ]
  },
  {
   "cell_type": "code",
   "execution_count": 9,
   "metadata": {},
   "outputs": [
    {
     "data": {
      "text/plain": [
       "9"
      ]
     },
     "execution_count": 9,
     "metadata": {},
     "output_type": "execute_result"
    }
   ],
   "source": [
    "simpleArraySum([1, 3, 5])"
   ]
  },
  {
   "cell_type": "markdown",
   "metadata": {},
   "source": [
    "# Compare the Triplets"
   ]
  },
  {
   "cell_type": "code",
   "execution_count": 20,
   "metadata": {},
   "outputs": [],
   "source": [
    "a = [1, 2, 3]\n",
    "b = [3, 2, 1]"
   ]
  },
  {
   "cell_type": "code",
   "execution_count": 21,
   "metadata": {},
   "outputs": [],
   "source": [
    "def compareTriplets(a, b):\n",
    "    a1 = 0\n",
    "    b1 = 0\n",
    "    for i in range(len(a)):\n",
    "        if (a[i] >=1 & a[i] <=100) & (b[i] >=1 & b[i] <= 100):\n",
    "            if a[i] > b[i]:\n",
    "                a1 += 1\n",
    "            elif a[i] < b[i]:\n",
    "                b1 += 1\n",
    "            else:\n",
    "                continue\n",
    "    \n",
    "        \n",
    "    return (a1, b1)"
   ]
  },
  {
   "cell_type": "code",
   "execution_count": 23,
   "metadata": {},
   "outputs": [
    {
     "data": {
      "text/plain": [
       "(1, 1)"
      ]
     },
     "execution_count": 23,
     "metadata": {},
     "output_type": "execute_result"
    }
   ],
   "source": [
    "compareTriplets(a, b)"
   ]
  },
  {
   "cell_type": "markdown",
   "metadata": {},
   "source": [
    "# A Very Big Sum"
   ]
  },
  {
   "cell_type": "code",
   "execution_count": null,
   "metadata": {},
   "outputs": [],
   "source": [
    " def aVeryBigSum(ar):\n",
    "    n = len(ar)\n",
    "    out = 0\n",
    "    if (n >=1 & n <=10):\n",
    "        for i in range(n):\n",
    "            if (ar[i] >= 0 & ar[i] <= 10**10):\n",
    "                out += ar[i]\n",
    "    return out\n",
    "        "
   ]
  },
  {
   "cell_type": "code",
   "execution_count": 28,
   "metadata": {},
   "outputs": [
    {
     "data": {
      "text/plain": [
       "5000000015"
      ]
     },
     "execution_count": 28,
     "metadata": {},
     "output_type": "execute_result"
    }
   ],
   "source": [
    "ar1 = [1000000001, 1000000002, 1000000003, 1000000004, 1000000005]\n",
    "aVeryBigSum(ar1)"
   ]
  },
  {
   "cell_type": "markdown",
   "metadata": {},
   "source": [
    "# Diagonal Difference"
   ]
  },
  {
   "cell_type": "code",
   "execution_count": 41,
   "metadata": {},
   "outputs": [],
   "source": [
    "ar1 = [[11, 2, 4], [4, 5, 6], [10, 8, -12]]"
   ]
  },
  {
   "cell_type": "code",
   "execution_count": 42,
   "metadata": {},
   "outputs": [
    {
     "name": "stdout",
     "output_type": "stream",
     "text": [
      "[[11, 2, 4], [4, 5, 6], [10, 8, -12]]\n"
     ]
    }
   ],
   "source": [
    "print(ar1)"
   ]
  },
  {
   "cell_type": "code",
   "execution_count": 43,
   "metadata": {},
   "outputs": [],
   "source": [
    "def diagonalDifference(arr):\n",
    "    d1 = 0\n",
    "    d2 = 0\n",
    "    for i in range(len(arr)):\n",
    "        tmp1 = arr[i][i]\n",
    "        tmp2 = arr[i][::-1][i]\n",
    "        if (tmp1 >= -100) & (tmp1 <= 100):\n",
    "            d1 += tmp1\n",
    "        if (tmp2 >= -100) & (tmp2 <= 100):\n",
    "            d2 += tmp2\n",
    "    return abs(d1 - d2)"
   ]
  },
  {
   "cell_type": "code",
   "execution_count": 44,
   "metadata": {},
   "outputs": [
    {
     "data": {
      "text/plain": [
       "15"
      ]
     },
     "execution_count": 44,
     "metadata": {},
     "output_type": "execute_result"
    }
   ],
   "source": [
    "diagonalDifference(ar1)"
   ]
  },
  {
   "cell_type": "markdown",
   "metadata": {},
   "source": [
    "# plusMinus\n"
   ]
  },
  {
   "cell_type": "code",
   "execution_count": 45,
   "metadata": {},
   "outputs": [],
   "source": [
    "ar1 = [1, 2, 0, -1, -2]"
   ]
  },
  {
   "cell_type": "code",
   "execution_count": 59,
   "metadata": {},
   "outputs": [],
   "source": [
    "def plusMinus(arr):\n",
    "    l1 = len(arr)\n",
    "    if (l1 > 0) & (l1 <= 100):\n",
    "        pos = 0\n",
    "        neg = 0\n",
    "        zero = 0\n",
    "        for i in range(len(arr)):\n",
    "            tmp = arr[i]\n",
    "            if (tmp >= -100) & (tmp <= 100):\n",
    "                if tmp > 0:\n",
    "                    pos += 1\n",
    "                elif tmp < 0:\n",
    "                    neg += 1\n",
    "                else:\n",
    "                    zero += 1\n",
    "        posperc = pos/l1\n",
    "        negperc = neg/l1\n",
    "        zeroperc = zero/l1\n",
    "        print(format(posperc, '.6f'))\n",
    "        print(format(negperc, '.6f'))\n",
    "        print(format(zeroperc, '.6f'))\n",
    "    return None\n",
    "        "
   ]
  },
  {
   "cell_type": "code",
   "execution_count": 60,
   "metadata": {},
   "outputs": [
    {
     "name": "stdout",
     "output_type": "stream",
     "text": [
      "0.400000\n",
      "0.400000\n",
      "0.200000\n"
     ]
    }
   ],
   "source": [
    "plusMinus(ar1)"
   ]
  },
  {
   "cell_type": "markdown",
   "metadata": {},
   "source": [
    "# staircase"
   ]
  },
  {
   "cell_type": "code",
   "execution_count": 68,
   "metadata": {},
   "outputs": [],
   "source": [
    "def staircase(n):\n",
    "    if (n > 0) & (n <= 100):\n",
    "        for i in range(1, n + 1):\n",
    "            tmp = '#' * i\n",
    "            print(tmp.rjust(n))\n",
    "    return None\n",
    "        "
   ]
  },
  {
   "cell_type": "code",
   "execution_count": 69,
   "metadata": {},
   "outputs": [
    {
     "name": "stdout",
     "output_type": "stream",
     "text": [
      "    #\n",
      "   ##\n",
      "  ###\n",
      " ####\n",
      "#####\n"
     ]
    }
   ],
   "source": [
    "staircase(5)"
   ]
  },
  {
   "cell_type": "markdown",
   "metadata": {},
   "source": [
    "# Mini-Max Sum"
   ]
  },
  {
   "cell_type": "code",
   "execution_count": 108,
   "metadata": {},
   "outputs": [],
   "source": [
    "ar1 = [3, 5, 1, 7, 9]"
   ]
  },
  {
   "cell_type": "code",
   "execution_count": 107,
   "metadata": {},
   "outputs": [],
   "source": [
    "def miniMaxSum(arr):\n",
    "    arr.sort()\n",
    "    out = []\n",
    "    Min = 0\n",
    "    Max = 0\n",
    "    for i in range(len(arr)):\n",
    "        if (arr[i] >=1) & (arr[i] <=10**9):\n",
    "            out.append(arr[i])\n",
    "    print(sum(out[:4]), sum(out[::-1][:4]))\n",
    "    return None\n",
    "    "
   ]
  },
  {
   "cell_type": "code",
   "execution_count": 110,
   "metadata": {},
   "outputs": [
    {
     "name": "stdout",
     "output_type": "stream",
     "text": [
      "16 24\n"
     ]
    }
   ],
   "source": [
    "miniMaxSum(ar1)"
   ]
  },
  {
   "cell_type": "markdown",
   "metadata": {},
   "source": [
    "# Birthday Cake Candles"
   ]
  },
  {
   "cell_type": "code",
   "execution_count": 116,
   "metadata": {},
   "outputs": [],
   "source": [
    "ar1 = [4, 4, 1, 3]"
   ]
  },
  {
   "cell_type": "code",
   "execution_count": 121,
   "metadata": {},
   "outputs": [],
   "source": [
    "def birthdayCakeCandles(ar):\n",
    "    n = len(ar)\n",
    "    n1 = 0\n",
    "    if (n >=1) & (n <= 10**5):\n",
    "        \n",
    "        mx = max(ar)\n",
    "        for i in range(n):\n",
    "            if (ar[i] >=1 ) & (ar[i] <= 10**7):\n",
    "                if (ar[i] == mx):\n",
    "                    n1 += 1\n",
    "        \n",
    "    return n1       "
   ]
  },
  {
   "cell_type": "code",
   "execution_count": 122,
   "metadata": {},
   "outputs": [
    {
     "data": {
      "text/plain": [
       "2"
      ]
     },
     "execution_count": 122,
     "metadata": {},
     "output_type": "execute_result"
    }
   ],
   "source": [
    "birthdayCakeCandles(ar1)"
   ]
  },
  {
   "cell_type": "markdown",
   "metadata": {},
   "source": [
    "# Time Conversion"
   ]
  },
  {
   "cell_type": "code",
   "execution_count": 168,
   "metadata": {},
   "outputs": [],
   "source": [
    "#s1 = \"07:05:45PM\"\n",
    "#s1 = \"12:40:22AM\"\n",
    "#s1 = \"06:40:03AM\"\n",
    "s1 = \"12:45:54PM\""
   ]
  },
  {
   "cell_type": "code",
   "execution_count": 171,
   "metadata": {},
   "outputs": [],
   "source": [
    "def timeConversion(s):\n",
    "    hh = s[:2]\n",
    "    mm = s[3:5]\n",
    "    ss = s[6:8]\n",
    "    ampm = s[8:]\n",
    "    \n",
    "    hhint = int(hh)\n",
    "    mmint = int(mm)\n",
    "    ssint = int(ss)\n",
    "    \n",
    "    out = \"\"\n",
    "    if (hhint >=1) & (hhint <=12) & (mmint >=0) & (mmint <= 59) & (ssint >= 0) & (ssint <= 59):\n",
    "        if ampm == 'PM':\n",
    "            if (hhint < 12):\n",
    "                hh1 = str(hhint + 12) \n",
    "            else:\n",
    "                hh1 = hh\n",
    "            out += f\"{hh1}:{mm}:{ss}\"\n",
    "        else:\n",
    "            if(hhint >= 12):\n",
    "                hh1 = str(hhint - 12).zfill(2)\n",
    "            else:\n",
    "                hh1 = hh\n",
    "            out += f\"{hh1}:{mm}:{ss}\"\n",
    "    return out \n",
    "    "
   ]
  },
  {
   "cell_type": "code",
   "execution_count": 172,
   "metadata": {},
   "outputs": [
    {
     "data": {
      "text/plain": [
       "'12:45:54'"
      ]
     },
     "execution_count": 172,
     "metadata": {},
     "output_type": "execute_result"
    }
   ],
   "source": [
    "timeConversion(s1)"
   ]
  },
  {
   "cell_type": "markdown",
   "metadata": {},
   "source": [
    "# Grading Students"
   ]
  },
  {
   "cell_type": "code",
   "execution_count": 178,
   "metadata": {},
   "outputs": [],
   "source": [
    "import math"
   ]
  },
  {
   "cell_type": "code",
   "execution_count": 186,
   "metadata": {},
   "outputs": [],
   "source": [
    "gr = [73, 67, 38, 33]"
   ]
  },
  {
   "cell_type": "code",
   "execution_count": 185,
   "metadata": {},
   "outputs": [],
   "source": [
    "def gradingStudents(grades):\n",
    "    n = len(grades)\n",
    "    out = []\n",
    "    if (n >=1) & (n <= 60):\n",
    "        for i in range(n):\n",
    "            tmp = grades[i]\n",
    "            if (tmp >= 0) & (tmp <= 100):\n",
    "                if (tmp >= 38):\n",
    "                    tmpC = math.ceil(tmp/5) * 5\n",
    "                    if (tmpC - tmp) < 3:\n",
    "                        out.append(tmpC)\n",
    "                    else:\n",
    "                        out.append(tmp)\n",
    "                else:\n",
    "                    out.append(tmp)\n",
    "    return out        \n",
    "    "
   ]
  },
  {
   "cell_type": "code",
   "execution_count": 187,
   "metadata": {},
   "outputs": [
    {
     "data": {
      "text/plain": [
       "[75, 67, 40, 33]"
      ]
     },
     "execution_count": 187,
     "metadata": {},
     "output_type": "execute_result"
    }
   ],
   "source": [
    "gradingStudents(gr)"
   ]
  },
  {
   "cell_type": "markdown",
   "metadata": {},
   "source": [
    "# Apple and Orange"
   ]
  },
  {
   "cell_type": "code",
   "execution_count": 34,
   "metadata": {},
   "outputs": [],
   "source": [
    "def countApplesAndOranges(s, t, a, b, apples, oranges):\n",
    "    m = len(apples)\n",
    "    n = len(oranges)  \n",
    "    apple_n = 0\n",
    "    oranges_n = 0\n",
    "    if all(map((lambda value: (value >=1)  & (value <= 10 **5)), (s, t, a, b, m, n))):\n",
    "        if (a < s) & (s < t) & (t < b):\n",
    "            for ap in apples:\n",
    "                if (ap >= -10 ** 5) & (ap <= 10 **5):\n",
    "                    tmpap  = ap + a\n",
    "                    print(\"tmpap \", tmpap)\n",
    "                    if (tmpap >=s) & (tmpap <= t):\n",
    "                        apple_n += 1\n",
    "            for orn in oranges:\n",
    "                if (orn >= -10 ** 5) & (orn <= 10 **5):\n",
    "                    tmpor = orn + b\n",
    "                    print(\"tmpor \", tmpor)\n",
    "                    if (tmpor >= s) & (tmpor <= t):\n",
    "                        oranges_n += 1\n",
    "    \n",
    "    print(apple_n)\n",
    "    print(oranges_n)\n",
    "    \n",
    "    return None\n",
    "    "
   ]
  },
  {
   "cell_type": "code",
   "execution_count": 35,
   "metadata": {
    "scrolled": true
   },
   "outputs": [
    {
     "name": "stdout",
     "output_type": "stream",
     "text": [
      "tmpap  3\n",
      "tmpor  3\n",
      "1\n",
      "1\n"
     ]
    }
   ],
   "source": [
    "countApplesAndOranges(s = 2, t = 3, a = 1, b = 5, apples = [2], oranges = [-2])"
   ]
  },
  {
   "cell_type": "markdown",
   "metadata": {},
   "source": [
    "# Kangaroo"
   ]
  },
  {
   "cell_type": "code",
   "execution_count": 5,
   "metadata": {},
   "outputs": [],
   "source": [
    "x1, v1, x2, v2 = 43, 2, 70, 2"
   ]
  },
  {
   "cell_type": "code",
   "execution_count": 4,
   "metadata": {},
   "outputs": [],
   "source": [
    "def kangaroo(x1, v1, x2, v2):\n",
    "    out = \"NO\"\n",
    "    if (x1 >= 0) & (x2 > x1) & (x2 <= 10000):\n",
    "        if (v1 >= 1) & (v1 <= 10000) & (v2 >=1) & (v2 <= 10000):\n",
    "            flag = True\n",
    "            \n",
    "            while(flag):\n",
    "                diff1 = x2 - x1\n",
    "                x1 += v1\n",
    "                x2 += v2\n",
    "                print(\"x1:\", x1)\n",
    "                print(\"x2:\", x2)\n",
    "                diff2 = x2 - x1\n",
    "                if (diff2 > diff1)| (x2 < x1)| (diff1 == diff2):\n",
    "                    flag = False\n",
    "                    out = \"NO\"\n",
    "                if (x1 == x2):\n",
    "                    flag = False\n",
    "                    out = \"YES\"\n",
    "    print(out)\n",
    "    return None  "
   ]
  },
  {
   "cell_type": "code",
   "execution_count": 6,
   "metadata": {},
   "outputs": [
    {
     "name": "stdout",
     "output_type": "stream",
     "text": [
      "x1: 45\n",
      "x2: 72\n",
      "NO\n"
     ]
    }
   ],
   "source": [
    "kangaroo(x1, v1, x2, v2)"
   ]
  },
  {
   "cell_type": "markdown",
   "metadata": {},
   "source": [
    "# Between Two Sets"
   ]
  },
  {
   "cell_type": "code",
   "execution_count": 94,
   "metadata": {},
   "outputs": [],
   "source": [
    "a = [1]\n",
    "b = [100]"
   ]
  },
  {
   "cell_type": "code",
   "execution_count": 100,
   "metadata": {},
   "outputs": [],
   "source": [
    "def getTotalX(a, b):\n",
    "    n = len(a)\n",
    "    m = len(b)\n",
    "    n1 = 0\n",
    "    if all(map((lambda x: (x >= 1) & (x <= 10)), (n, m))):\n",
    "        if all(map((lambda x: (x >= 1) & (x <= 100)), (a))):\n",
    "            if all(map((lambda x: (x >=1) & (x <= 100)), (b))):\n",
    "                for val in range(max(a), max(b)+1, 1):\n",
    "                    an = 0\n",
    "                    bn = 0\n",
    "                    for a1 in a:\n",
    "                        if val %a1 == 0:\n",
    "                            an += 1\n",
    "                    \n",
    "                    for b1 in b:\n",
    "                        if b1 %val == 0:\n",
    "                            bn += 1\n",
    "                    #print('val: ', val, ';an: ', an, ';bn: ', bn)                   \n",
    "                    if (an == n) & (bn == m):\n",
    "                        n1 += 1                        \n",
    "        \n",
    "    return n1   "
   ]
  },
  {
   "cell_type": "code",
   "execution_count": 101,
   "metadata": {},
   "outputs": [
    {
     "data": {
      "text/plain": [
       "9"
      ]
     },
     "execution_count": 101,
     "metadata": {},
     "output_type": "execute_result"
    }
   ],
   "source": [
    "getTotalX(a, b)"
   ]
  },
  {
   "cell_type": "markdown",
   "metadata": {},
   "source": [
    "# Breaking the Records"
   ]
  },
  {
   "cell_type": "code",
   "execution_count": 103,
   "metadata": {},
   "outputs": [],
   "source": [
    "sco = [10, 5, 20, 20, 4, 5, 2, 25, 1]"
   ]
  },
  {
   "cell_type": "code",
   "execution_count": 110,
   "metadata": {},
   "outputs": [],
   "source": [
    "def breakingRecords(scores):\n",
    "    n = len(scores)\n",
    "    mx = 0\n",
    "    mn = 0\n",
    "    \n",
    "    if (n >= 1) & (n <= 1000):\n",
    "        if all(map((lambda x: (x >= 0) & (x <= 10**8)), scores)):\n",
    "            mxval = scores[0]\n",
    "            mnval = scores[0]\n",
    "            \n",
    "            for scr in scores:\n",
    "                if scr < mnval:\n",
    "                    mn += 1\n",
    "                    mnval = scr\n",
    "                if scr > mxval:\n",
    "                    mx += 1\n",
    "                    mxval = scr\n",
    "    return mx, mn       "
   ]
  },
  {
   "cell_type": "code",
   "execution_count": 111,
   "metadata": {},
   "outputs": [
    {
     "data": {
      "text/plain": [
       "(2, 4)"
      ]
     },
     "execution_count": 111,
     "metadata": {},
     "output_type": "execute_result"
    }
   ],
   "source": [
    "breakingRecords(sco)"
   ]
  },
  {
   "cell_type": "markdown",
   "metadata": {},
   "source": [
    "# Birthday Chocolate"
   ]
  },
  {
   "cell_type": "code",
   "execution_count": 154,
   "metadata": {},
   "outputs": [],
   "source": [
    "s1 = [2, 5, 1, 3, 4, 4, 3, 5, 1, 1, 2, 1, 4, 1, 3, 3, 4, 2, 1]\n",
    "d1 = 18\n",
    "m1 = 7"
   ]
  },
  {
   "cell_type": "code",
   "execution_count": 175,
   "metadata": {},
   "outputs": [],
   "source": [
    "import random\n",
    "def birthday(s, d, m):\n",
    "    # total number of splits\n",
    "    n_split = 0\n",
    "    # length of array\n",
    "    n = len(s)\n",
    "    # n should be between 1 and 100\n",
    "    # d between 1 and 31\n",
    "    # m between 1 and 12\n",
    "    if (n >= 1) & (n <= 100) & (d >= 1) & (d <= 31) & (m >= 1) & (m <= 12):\n",
    "        # all values between 1 and 5\n",
    "        if all(map((lambda x: (x >=1) & (x <= 5)), s)):             \n",
    "            # get consecutive elements zip together           \n",
    "            l1 = [s]\n",
    "            for i in range(1, m):\n",
    "                l1.append(s[i:])\n",
    "            \n",
    "            for val in zip(*l1):                \n",
    "                # if the sum of the values are equal to d                \n",
    "                # then add 1 to n_split\n",
    "                if sum(val) == d:    \n",
    "                    print('val: ', val)\n",
    "                    print('sum_val: ', sum(val))\n",
    "                    print('d: ', d)\n",
    "                    n_split += 1\n",
    "    return n_split      "
   ]
  },
  {
   "cell_type": "code",
   "execution_count": 176,
   "metadata": {},
   "outputs": [
    {
     "name": "stdout",
     "output_type": "stream",
     "text": [
      "val:  (2, 1, 4, 1, 3, 3, 4)\n",
      "sum_val:  18\n",
      "d:  18\n",
      "val:  (1, 4, 1, 3, 3, 4, 2)\n",
      "sum_val:  18\n",
      "d:  18\n",
      "val:  (4, 1, 3, 3, 4, 2, 1)\n",
      "sum_val:  18\n",
      "d:  18\n"
     ]
    },
    {
     "data": {
      "text/plain": [
       "3"
      ]
     },
     "execution_count": 176,
     "metadata": {},
     "output_type": "execute_result"
    }
   ],
   "source": [
    "birthday(s1, d1, m1)"
   ]
  },
  {
   "cell_type": "markdown",
   "metadata": {},
   "source": [
    "# Divisible Sum Pairs"
   ]
  },
  {
   "cell_type": "code",
   "execution_count": 179,
   "metadata": {},
   "outputs": [],
   "source": [
    "ar1 = [1, 3, 2, 6, 1, 2]"
   ]
  },
  {
   "cell_type": "code",
   "execution_count": 191,
   "metadata": {},
   "outputs": [],
   "source": [
    "def divisibleSumPairs(n, k, ar):\n",
    "    '''\n",
    "    @params\n",
    "         n - integer length of array ar\n",
    "         k - integer to divide the pair sum by\n",
    "         ar - array of integers     \n",
    "    \n",
    "    '''\n",
    "    # // initialize count\n",
    "    cnt = 0\n",
    "    \n",
    "    # // check the condition\n",
    "    if (n >= 2) & (n <= 100) & (k >= 1) & (k <= 100):\n",
    "        if all(map((lambda x: (x >= 1) & (x <= 100)), ar)):\n",
    "        # // loop over the sequence\n",
    "            for i in range(n):\n",
    "                for j in range(n):\n",
    "                    # // the index i is less than j\n",
    "                    if (i < j):\n",
    "                        # // get the sum of the array element pair\n",
    "                        sum = ar[i] + ar[j]\n",
    "                        # // if sum is divisible by k, then increase cnt\n",
    "                        if (sum %k) == 0:\n",
    "                            cnt += 1\n",
    "                        \n",
    "                    \n",
    "    return cnt"
   ]
  },
  {
   "cell_type": "code",
   "execution_count": 192,
   "metadata": {},
   "outputs": [
    {
     "data": {
      "text/plain": [
       "5"
      ]
     },
     "execution_count": 192,
     "metadata": {},
     "output_type": "execute_result"
    }
   ],
   "source": [
    "divisibleSumPairs(6, 3, ar1)"
   ]
  },
  {
   "cell_type": "markdown",
   "metadata": {},
   "source": [
    "# Migratory Birds"
   ]
  },
  {
   "cell_type": "code",
   "execution_count": 202,
   "metadata": {},
   "outputs": [],
   "source": [
    "ar1 = [1, 4, 4, 4, 5, 3]"
   ]
  },
  {
   "cell_type": "code",
   "execution_count": 253,
   "metadata": {},
   "outputs": [],
   "source": [
    "def migratoryBirds(arr):\n",
    "    '''\n",
    "    @params\n",
    "        arr - array of integers representing types of birds sighted\n",
    "    '''\n",
    "    \n",
    "    # // number of birds sighted and reported\n",
    "    n = len(arr)\n",
    "    \n",
    "    # // unique types\n",
    "    un1 = list(set(arr))\n",
    "    un1.sort()\n",
    "    \n",
    "    \n",
    "    # // create an empty dict with keys\n",
    "    dict1 = dict.fromkeys(un1)\n",
    "    \n",
    "    \n",
    "    # // check the constraints\n",
    "    if (n >= 5) & (n <= 2 * 10 ** 5):\n",
    "        # // loop over the dict keys\n",
    "        for k, v in dict1.items():\n",
    "            # // update the v with the count of key\n",
    "            dict1[k] = sum([val == k for val in arr])    \n",
    "    \n",
    "    # // get the first key where value is the max value\n",
    "    mostcommonbird = [k for k, v in dict1.items() if v == max(dict1.values())][0]\n",
    "        \n",
    "            \n",
    "        \n",
    "    return mostcommonbird\n",
    "        "
   ]
  },
  {
   "cell_type": "code",
   "execution_count": 254,
   "metadata": {},
   "outputs": [
    {
     "data": {
      "text/plain": [
       "4"
      ]
     },
     "execution_count": 254,
     "metadata": {},
     "output_type": "execute_result"
    }
   ],
   "source": [
    "migratoryBirds(ar1)"
   ]
  },
  {
   "cell_type": "markdown",
   "metadata": {},
   "source": [
    "# Day of the Programmer"
   ]
  },
  {
   "cell_type": "code",
   "execution_count": 66,
   "metadata": {},
   "outputs": [],
   "source": [
    "def monthDay(year, isLeapYear):\n",
    "    '''\n",
    "    @params\n",
    "        year - input year\n",
    "        isLeapYear - boolean type => True: leap year, False: not a leap year\n",
    "    '''\n",
    "    January = 31\n",
    "    # // if leap year, February changes\n",
    "    if isLeapYear:\n",
    "        February = 29\n",
    "    # // in 1918, next day after January 31st was February 14th\n",
    "    elif year == 1918:\n",
    "        February = 15\n",
    "    else:\n",
    "        February = 28\n",
    "    March = 31\n",
    "    April = 30\n",
    "    May = 31\n",
    "    June = 30\n",
    "    July = 31\n",
    "    August = 31\n",
    "    September = 30\n",
    "    October = 31\n",
    "    November = 30\n",
    "    December = 31\n",
    "    \n",
    "    # // create a dictionary of months\n",
    "    monthdict = {'01': January, '02': February, '03': March, '04': April,\\\n",
    "                 '05': May, '06': June, '07': July, '08': August, '09': September,\\\n",
    "                 '10': October, '11': November, '12': December\n",
    "                }\n",
    "    \n",
    "    \n",
    "        \n",
    "    return monthdict\n",
    "\n",
    "def dayOfProgrammer(year):\n",
    "    '''\n",
    "    @params\n",
    "        year - input year       \n",
    "    '''\n",
    "    is_leap_year = False\n",
    "    \n",
    "    # // if year is between 1700 and 1917\n",
    "    # // check for Julian leap year\n",
    "    if (year >= 1700) & (year <= 1917):\n",
    "        # // divisible by 4\n",
    "        if year % 4 == 0:\n",
    "            is_leap_year = True\n",
    "            \n",
    "    # // if year is between 1919 and 2700\n",
    "    # // check for Gregorian leap year\n",
    "    elif (year > 1919) & (year < 2700):\n",
    "        # // divisible by 400 or divisible by 4 and not divisible by 100\n",
    "        if (year % 400 == 0) | ((year % 4 ==0) & (year % 100 != 0 )):\n",
    "            is_leap_year = True\n",
    "    \n",
    "    month_dict = monthDay(year, is_leap_year)\n",
    "    day_of_programmer = 256\n",
    "    diff_day_of_programmer = 256\n",
    "    Sum = 0   \n",
    "    datereturn = ''\n",
    "    \n",
    "    # // loop over the dictionary\n",
    "    for k, v in month_dict.items():\n",
    "        if Sum < day_of_programmer:\n",
    "            Sum = Sum + v\n",
    "            # // if difference in day of programmer less than month days            \n",
    "            if diff_day_of_programmer < v:\n",
    "                # // subtract from 0 or just return the same object\n",
    "                diff_day_of_programmer = diff_day_of_programmer - 0\n",
    "            else:\n",
    "                # // else subtract from the month days\n",
    "                diff_day_of_programmer = diff_day_of_programmer - v          \n",
    "            \n",
    "            datereturn = str(diff_day_of_programmer) + \".\" + k + \".\" + str(year)           \n",
    "                \n",
    "                \n",
    "    return datereturn    \n",
    "        \n",
    "    \n",
    "    "
   ]
  },
  {
   "cell_type": "code",
   "execution_count": 67,
   "metadata": {},
   "outputs": [
    {
     "data": {
      "text/plain": [
       "'12.09.1700'"
      ]
     },
     "execution_count": 67,
     "metadata": {},
     "output_type": "execute_result"
    }
   ],
   "source": [
    "dayOfProgrammer(1700)"
   ]
  },
  {
   "cell_type": "markdown",
   "metadata": {},
   "source": [
    "# Bon Appétit"
   ]
  },
  {
   "cell_type": "code",
   "execution_count": 15,
   "metadata": {},
   "outputs": [],
   "source": [
    "bill_amt = [3, 10, 2, 9]"
   ]
  },
  {
   "cell_type": "code",
   "execution_count": 23,
   "metadata": {},
   "outputs": [],
   "source": [
    "def bonAppetit(bill, k, b):\n",
    "    n = len(bill)\n",
    "    Sum = 0\n",
    "    ## constraints \n",
    "    # // - n should be between 2 and 10**5\n",
    "    # // - k (item index that Anna doesn't eat) should be between 0 and less than n \n",
    "    # // - b amount Anna owe should be between 0 and the total sum of the bill     \n",
    "    if (n >=2) & (n <= 10**5) & (k >= 0) & (k < n) & (b >= 0) & (b <= sum(bill)):    \n",
    "        for i in range(n):\n",
    "            # // bill item amount should be between 0 and 10**4\n",
    "            if (bill[i] >= 0) & (bill[i] <= 10**4):\n",
    "                if i != k:\n",
    "                    Sum += bill[i]\n",
    "    \n",
    "    b_actual = (Sum)/2\n",
    "    if b_actual == b:\n",
    "        print('Bon Appetit')\n",
    "    else:\n",
    "        print(int(abs(b_actual - b)))\n",
    "                \n",
    "    return None"
   ]
  },
  {
   "cell_type": "code",
   "execution_count": 24,
   "metadata": {},
   "outputs": [
    {
     "name": "stdout",
     "output_type": "stream",
     "text": [
      "5\n"
     ]
    }
   ],
   "source": [
    "bonAppetit(bill_amt, 1, 12)"
   ]
  },
  {
   "cell_type": "code",
   "execution_count": null,
   "metadata": {},
   "outputs": [],
   "source": []
  }
 ],
 "metadata": {
  "kernelspec": {
   "display_name": "Python 3",
   "language": "python",
   "name": "python3"
  },
  "language_info": {
   "codemirror_mode": {
    "name": "ipython",
    "version": 3
   },
   "file_extension": ".py",
   "mimetype": "text/x-python",
   "name": "python",
   "nbconvert_exporter": "python",
   "pygments_lexer": "ipython3",
   "version": "3.8.3"
  }
 },
 "nbformat": 4,
 "nbformat_minor": 4
}
